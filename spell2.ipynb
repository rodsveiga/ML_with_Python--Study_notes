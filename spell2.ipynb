{
 "cells": [
  {
   "cell_type": "code",
   "execution_count": 2,
   "metadata": {
    "collapsed": true
   },
   "outputs": [
    {
     "name": "stdout",
     "output_type": "stream",
     "text": [
      "downloading https://bitbucket.org/ipre/calico/downloads/calico-spell-check-1.0.zip to /tmp/tmpWJWlxp/calico-spell-check-1.0.zip\r\n"
     ]
    },
    {
     "name": "stdout",
     "output_type": "stream",
     "text": [
      "extracting /tmp/tmpWJWlxp/calico-spell-check-1.0.zip to /home/rodrigo/.ipython/nbextensions\r\n"
     ]
    }
   ],
   "source": [
    "!ipython install-nbextension https://bitbucket.org/ipre/calico/downloads/calico-spell-check-1.0.zip"
   ]
  },
  {
   "cell_type": "code",
   "execution_count": 3,
   "metadata": {},
   "outputs": [
    {
     "name": "stdout",
     "output_type": "stream",
     "text": [
      "downloading https://bitbucket.org/ipre/calico/downloads/calico-document-tools-1.0.zip to /tmp/tmpXLCzq2/calico-document-tools-1.0.zip\r\n"
     ]
    },
    {
     "name": "stdout",
     "output_type": "stream",
     "text": [
      "extracting /tmp/tmpXLCzq2/calico-document-tools-1.0.zip to /home/rodrigo/.ipython/nbextensions\r\n"
     ]
    }
   ],
   "source": [
    "!ipython install-nbextension https://bitbucket.org/ipre/calico/downloads/calico-document-tools-1.0.zip"
   ]
  },
  {
   "cell_type": "code",
   "execution_count": 4,
   "metadata": {},
   "outputs": [
    {
     "name": "stdout",
     "output_type": "stream",
     "text": [
      "downloading https://bitbucket.org/ipre/calico/downloads/calico-cell-tools-1.0.zip to /tmp/tmp04kbbz/calico-cell-tools-1.0.zip\r\n"
     ]
    },
    {
     "name": "stdout",
     "output_type": "stream",
     "text": [
      "extracting /tmp/tmp04kbbz/calico-cell-tools-1.0.zip to /home/rodrigo/.ipython/nbextensions\r\n"
     ]
    }
   ],
   "source": [
    "!ipython install-nbextension https://bitbucket.org/ipre/calico/downloads/calico-cell-tools-1.0.zip"
   ]
  },
  {
   "cell_type": "code",
   "execution_count": 5,
   "metadata": {},
   "outputs": [
    {
     "data": {
      "text/plain": [
       "<IPython.core.display.Javascript object>"
      ]
     },
     "execution_count": 0,
     "metadata": {},
     "output_type": "execute_result"
    }
   ],
   "source": [
    "%%javascript\n",
    "Jupyter.notebook.config.update({\"load_extensions\":{\"calico-spell-check\":true,\n",
    "                                                  \"calico-document-tools\":true,\n",
    "                                                  \"calico-cell-tools\":true}});"
   ]
  },
  {
   "cell_type": "code",
   "execution_count": 6,
   "metadata": {},
   "outputs": [
    {
     "name": "stdout",
     "output_type": "stream",
     "text": [
      "/home/rodrigo/.ipython\r\n"
     ]
    }
   ],
   "source": [
    "!ipython locate"
   ]
  },
  {
   "cell_type": "code",
   "execution_count": 10,
   "metadata": {},
   "outputs": [],
   "source": [
    "!gedit /home/rodrigo/.ipython/profile_default/static/custom/custom.js"
   ]
  },
  {
   "cell_type": "markdown",
   "metadata": {},
   "source": [
    ""
   ]
  }
 ],
 "metadata": {
  "kernelspec": {
   "display_name": "Python 2",
   "language": "python",
   "name": "python2"
  },
  "language_info": {
   "codemirror_mode": {
    "name": "ipython",
    "version": 2.0
   },
   "file_extension": ".py",
   "mimetype": "text/x-python",
   "name": "python",
   "nbconvert_exporter": "python",
   "pygments_lexer": "ipython2",
   "version": "2.7.6"
  }
 },
 "nbformat": 4,
 "nbformat_minor": 0
}